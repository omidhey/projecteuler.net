{
 "cells": [
  {
   "cell_type": "markdown",
   "id": "3003f39c",
   "metadata": {},
   "source": [
    "## Problem 21 Amicable numbers"
   ]
  },
  {
   "cell_type": "raw",
   "id": "0e5e3df9",
   "metadata": {},
   "source": [
    "Let d(n) be defined as the sum of proper divisors of n (numbers less than n which divide evenly into n).\n",
    "If d(a) = b and d(b) = a, where a ≠ b, then a and b are an amicable pair and each of a and b are called amicable numbers.\n",
    "\n",
    "For example, the proper divisors of 220 are 1, 2, 4, 5, 10, 11, 20, 22, 44, 55 and 110; therefore d(220) = 284. The proper divisors of 284 are 1, 2, 4, 71 and 142; so d(284) = 220.\n",
    "\n",
    "Evaluate the sum of all the amicable numbers under 10000."
   ]
  },
  {
   "cell_type": "code",
   "execution_count": 2,
   "id": "35953e0c",
   "metadata": {},
   "outputs": [
    {
     "name": "stdout",
     "output_type": "stream",
     "text": [
      "31626\n"
     ]
    }
   ],
   "source": [
    "def d(num):\n",
    "    divisors = []\n",
    "    for i in range(1,num):\n",
    "        if num % i == 0:\n",
    "            divisors.append(i)\n",
    "    return divisors\n",
    "\n",
    "amicables = []\n",
    "for i in range(1, 10001):\n",
    "    amicable = sum(d(i))\n",
    "    if sum(d(amicable)) == i:\n",
    "        if amicable != i:\n",
    "#             print(i, amicable) \n",
    "            amicables.append(i)\n",
    "# print(amicables)\n",
    "print(sum(amicables))"
   ]
  },
  {
   "cell_type": "code",
   "execution_count": null,
   "id": "c0b73fa5",
   "metadata": {},
   "outputs": [],
   "source": []
  }
 ],
 "metadata": {
  "kernelspec": {
   "display_name": "Python 3 (ipykernel)",
   "language": "python",
   "name": "python3"
  },
  "language_info": {
   "codemirror_mode": {
    "name": "ipython",
    "version": 3
   },
   "file_extension": ".py",
   "mimetype": "text/x-python",
   "name": "python",
   "nbconvert_exporter": "python",
   "pygments_lexer": "ipython3",
   "version": "3.9.2"
  }
 },
 "nbformat": 4,
 "nbformat_minor": 5
}
